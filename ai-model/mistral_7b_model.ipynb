{
  "cells": [
    {
      "cell_type": "code",
      "execution_count": 1,
      "metadata": {
        "id": "MZmyZQJL7cQB"
      },
      "outputs": [],
      "source": [
        "import requests\n",
        "from datetime import datetime, timedelta"
      ]
    },
    {
      "cell_type": "code",
      "execution_count": 2,
      "metadata": {
        "id": "0EiDNi6Y_Wcq"
      },
      "outputs": [],
      "source": [
        "CLOUDFLARE_API_KEY =\"5XdlglW_vpz3X9PoPozByHhJ3PK2aSJgUCBbtKJ8\"\n",
        "CF_MODEL = \"@cf/mistral/mistral-7b-instruct-v0.1\"\n",
        "CF_API_URL = \"https://api.cloudflare.com/client/v4/accounts/{account_id}/ai/run/{model_name}\"\n",
        "MAX_TOKENS = 1800\n",
        "mapbox_token = \"pk.eyJ1IjoiYXJ5YW5zaGFybWE4MTAiLCJhIjoiY203eXRtY29yMGRvYTJpc2FoMDI5bjAxMyJ9.edEiAbWX4ZcRs6qq921oZQ\"\n",
        "tomtom_api_key = 'k8wn0ShnUx6ZmuDGF9x4KCWR6bAvWmPQ'\n",
        "DEFAULT_DAYS = 3"
      ]
    },
    {
      "cell_type": "code",
      "execution_count": null,
      "metadata": {
        "id": "tGINzZdW-W23"
      },
      "outputs": [],
      "source": [
        "def get_coordinates(location, mapbox_token):\n",
        "    url = f\"https://api.mapbox.com/geocoding/v5/mapbox.places/{location}.json\"\n",
        "    params = {\"access_token\": mapbox_token, \"limit\": 1}\n",
        "    try:\n",
        "        response = requests.get(url, params=params, timeout=10)\n",
        "        if response.status_code == 200:\n",
        "            data = response.json()\n",
        "            features = data.get(\"features\", [])\n",
        "            if features:\n",
        "                center = features[0].get(\"center\")\n",
        "                if isinstance(center, list) and len(center) >= 2:\n",
        "                    return [float(center[0]), float(center[1])]\n",
        "    except Exception as e:\n",
        "        print(f\"Geocoding error: {str(e)}\")\n",
        "    return None"
      ]
    },
    {
      "cell_type": "code",
      "execution_count": 4,
      "metadata": {
        "id": "obrY9BGB-dMI"
      },
      "outputs": [],
      "source": [
        "def get_mapbox_pois(location, category, limit, token):\n",
        "    coords = get_coordinates(location, token)\n",
        "    if not coords or len(coords) < 2:\n",
        "        return []\n",
        "\n",
        "    try:\n",
        "        url = f\"https://api.mapbox.com/geocoding/v5/mapbox.places/{category}.json\"\n",
        "        params = {\n",
        "            \"access_token\": token,\n",
        "            \"limit\": limit,\n",
        "            \"proximity\": f\"{coords[0]},{coords[1]}\"\n",
        "        }\n",
        "        response = requests.get(url, params=params, timeout=10)\n",
        "        if response.status_code == 200:\n",
        "            return [\n",
        "                f[\"text\"] for f in response.json().get(\"features\", [])\n",
        "                if f.get(\"text\")\n",
        "            ]\n",
        "    except Exception as e:\n",
        "        print(f\"Mapbox POI error: {str(e)}\")\n",
        "    return []\n",
        "\n",
        "\n",
        "def get_tomtom_pois(coords, category, limit, api_key):\n",
        "    if not coords or len(coords) < 2:\n",
        "        return []\n",
        "\n",
        "    try:\n",
        "        url = \"https://api.tomtom.com/search/2/categorySearch/.json\"\n",
        "        params = {\n",
        "            \"key\": api_key,\n",
        "            \"lat\": coords[1],\n",
        "            \"lon\": coords[0],\n",
        "            \"limit\": limit,\n",
        "            \"categorySet\": \"7376\"\n",
        "        }\n",
        "        response = requests.get(url, params=params, timeout=10)\n",
        "        if response.status_code == 200:\n",
        "            return [\n",
        "                r[\"poi\"][\"name\"] for r in response.json().get(\"results\", [])\n",
        "                if r.get(\"poi\", {}).get(\"name\")\n",
        "            ]\n",
        "    except Exception as e:\n",
        "        print(f\"TomTom POI error: {str(e)}\")\n",
        "    return []"
      ]
    },
    {
      "cell_type": "code",
      "execution_count": 5,
      "metadata": {
        "id": "QyMnPF7s-mSW"
      },
      "outputs": [],
      "source": [
        "def get_weather_context(coords):\n",
        "    try:\n",
        "        url = \"https://api.open-meteo.com/v1/forecast\"\n",
        "        params = {\n",
        "            \"latitude\": coords[1],\n",
        "            \"longitude\": coords[0],\n",
        "            \"current_weather\": \"true\"\n",
        "        }\n",
        "        response = requests.get(url, params=params, timeout=10)\n",
        "        if response.status_code == 200:\n",
        "            weather = response.json().get(\"current_weather\", {})\n",
        "            return f\"{weather.get('temperature', 'N/A')}°C, Wind: {weather.get('windspeed', 'N/A')}km/h\"\n",
        "    except Exception:\n",
        "        pass\n",
        "    return \"Weather info unavailable\""
      ]
    },
    {
      "cell_type": "code",
      "execution_count": 6,
      "metadata": {
        "id": "ego4Mqfj-n_s"
      },
      "outputs": [],
      "source": [
        "def get_location_info(location_name):\n",
        "    try:\n",
        "        url = f\"https://en.wikipedia.org/api/rest_v1/page/summary/{location_name.replace(' ', '_')}\"\n",
        "        response = requests.get(url, timeout=5)\n",
        "        if response.status_code == 200:\n",
        "            data = response.json()\n",
        "            return data.get('extract', '')\n",
        "    except Exception:\n",
        "        pass\n",
        "    return f\"{location_name} is a fascinating destination with rich history and cultural significance.\""
      ]
    },
    {
      "cell_type": "code",
      "execution_count": 7,
      "metadata": {
        "id": "5gPESxn2-q6G"
      },
      "outputs": [],
      "source": [
        "def collect_travel_data(location, num_days, mapbox_token, tomtom_key):\n",
        "\n",
        "    coords = get_coordinates(location, mapbox_token)\n",
        "    if not coords:\n",
        "        raise ValueError(\"Could not retrieve coordinates for location\")\n",
        "\n",
        "    return {\n",
        "        \"location_info\": get_location_info(location.split(',')[0].strip()),\n",
        "        \"hotels\": list(set(\n",
        "            get_mapbox_pois(location, \"hotel\", 10, mapbox_token) +\n",
        "            get_tomtom_pois(coords, \"hotel\", 10, tomtom_key)\n",
        "        ))[:10],\n",
        "        \"attractions\": list(set(\n",
        "            get_mapbox_pois(location, \"attraction\", num_days*4, mapbox_token) +\n",
        "            get_tomtom_pois(coords, \"attraction\", num_days*4, tomtom_key)\n",
        "        ))[:num_days*4],\n",
        "        \"transportation\": get_transportation_info(coords, mapbox_token),\n",
        "        \"weather\": get_weather_context(coords)\n",
        "    }"
      ]
    },
    {
      "cell_type": "code",
      "execution_count": 8,
      "metadata": {
        "id": "jesY-t98-9PB"
      },
      "outputs": [],
      "source": [
        "def get_transportation_info(coords, mapbox_token):\n",
        "    try:\n",
        "        url = \"https://api.mapbox.com/directions-matrix/v1/mapbox/driving\"\n",
        "        params = {\n",
        "            \"access_token\": mapbox_token,\n",
        "            \"sources\": f\"{coords[0]},{coords[1]}\",\n",
        "            \"annotations\": \"duration\"\n",
        "        }\n",
        "        response = requests.get(url, params=params, timeout=10)\n",
        "        if response.status_code == 200:\n",
        "            durations = response.json().get(\"durations\", [[]])[0]\n",
        "            return f\"Average travel time: {sum(durations)/len(durations)/60:.1f} mins\" if durations else \"\"\n",
        "    except Exception:\n",
        "        pass\n",
        "    return \"Typical travel time: 15-45 mins\""
      ]
    },
    {
      "cell_type": "code",
      "execution_count": 9,
      "metadata": {
        "id": "Zn8qCeLS_EFH"
      },
      "outputs": [],
      "source": [
        "def format_prompt(rag_data, user_query, num_days):\n",
        "    return f\"\"\"<s>[INST] Create a detailed {num_days}-day travel itinerary with these components:\n",
        "\n",
        "Destination Context: {rag_data['location_info']}\n",
        "\n",
        "Key Information:\n",
        "- Available Hotels: {', '.join(rag_data['hotels'][:3])}\n",
        "- Top Attractions: {', '.join(rag_data['attractions'][:6])}\n",
        "- Transportation Details: {rag_data['transportation']}\n",
        "- Current Weather: {rag_data['weather']}\n",
        "- User Preferences: {user_query}\n",
        "\n",
        "Structure Requirements:\n",
        "1. Daily schedule with time blocks (Morning/Afternoon/Evening)\n",
        "2. Historical context for each main attraction\n",
        "3. Cultural significance explanations\n",
        "4. Local dining suggestions near activities\n",
        "5. Hotel recommendations with proximity notes\n",
        "\n",
        "Include practical tips and safety considerations where relevant.\n",
        "[/INST]</s>\n",
        "\"\"\""
      ]
    },
    {
      "cell_type": "code",
      "execution_count": 12,
      "metadata": {
        "id": "AnocMNQy_K6t"
      },
      "outputs": [],
      "source": [
        "def generate_itinerary(prompt, account_id):\n",
        "    headers = {\n",
        "        \"Authorization\": f\"Bearer {CLOUDFLARE_API_KEY}\",\n",
        "        \"Content-Type\": \"application/json\"\n",
        "    }\n",
        "\n",
        "    payload = {\n",
        "        \"prompt\": prompt,\n",
        "        \"max_tokens\": MAX_TOKENS,\n",
        "        \"temperature\": 0.7,\n",
        "        \"top_p\": 0.9,\n",
        "        \"stream\": False\n",
        "    }\n",
        "\n",
        "    try:\n",
        "        response = requests.post(\n",
        "            CF_API_URL.format(account_id=account_id, model_name=CF_MODEL),\n",
        "            headers=headers,\n",
        "            json=payload,\n",
        "            timeout=300\n",
        "        )\n",
        "        response.raise_for_status()\n",
        "        return response.json().get(\"result\", {}).get(\"response\", \"Error generating itinerary\")\n",
        "    except Exception as e:\n",
        "        return f\"API Error: {str(e)}\""
      ]
    },
    {
      "cell_type": "code",
      "execution_count": null,
      "metadata": {
        "colab": {
          "base_uri": "https://localhost:8080/"
        },
        "id": "C4ZxU16q_RWJ",
        "outputId": "772908a0-9de6-4e8c-fcb1-e2b0441688ca"
      },
      "outputs": [
        {
          "name": "stdout",
          "output_type": "stream",
          "text": [
            "\n",
            "Enter destination (e.g., 'Rome, Italy'): Kolkata\n",
            "Describe your travel preferences: plan my trip\n",
            "Number of days (3-10): 7\n",
            "Collecting travel data...\n",
            "Generating itinerary via Cloudflare AI...\n",
            "\n",
            "=== TRAVEL PLAN ===\n",
            "\n",
            " Day 1: Arrival in Kolkata\n",
            "\n",
            "Morning:\n",
            "- Arrive at Netaji Subhas Chandra Bose International Airport. The airport is located about 20 km north of the city center.\n",
            "- Check-in at Hôtel de Ville-Quinconces, which is centrally located and convenient for exploring the city. (Travel time: 30 mins)\n",
            "\n",
            "Afternoon:\n",
            "- After settling in, take a leisurely walk around the nearby Maidan, the largest city park in Kolkata, and visit the Victoria Memorial. (15-minute walk)\n",
            "- Have lunch at Bhojohori Manna, a popular Bengali restaurant located near the Maidan.\n",
            "\n",
            "Evening:\n",
            "- Visit Vijay Smarak, a memorial dedicated to the soldiers of the Indian Armed Forces who have made the supreme sacrifice in various wars and peacekeeping missions. (10-minute taxi ride)\n",
            "\n",
            "Day 2: Exploring Historical Kolkata\n",
            "\n",
            "Morning:\n",
            "- Start your day with a visit to the St. Paul's Cathedral, a beautiful neo-Gothic Anglican cathedral, followed by a visit to the nearby Flower Market. (15-minute taxi ride)\n",
            "\n",
            "Afternoon:\n",
            "- Head to the Indian Museum, the largest museum in India, to explore its vast collection of ancient art, sculptures, and artifacts. (15-minute taxi ride)\n",
            "- Have lunch at Niramish, a renowned Bengali vegetarian restaurant.\n",
            "\n",
            "Evening:\n",
            "- Visit Shaheed Minar, a memorial dedicated to the soldiers of the Indian National Army who fought for India's independence from British rule. (10-minute taxi ride)\n",
            "\n",
            "Day 3: Cultural Kolkata\n",
            "\n",
            "Morning:\n",
            "- Start your day with a visit to the Belur Math, the headquarters of the Ramakrishna Mission and a significant pilgrimage site. (45-minute taxi ride)\n",
            "\n",
            "Afternoon:\n",
            "- Head to South Kolkata and visit the famous Dakshineswar Kali Temple and the nearby Bhavtarini Temple. (20-minute taxi ride)\n",
            "- Have lunch at Girish Ghosh, a popular Bengali restaurant.\n",
            "\n",
            "Evening:\n",
            "- Visit Attraction Street, a popular shopping destination known for its art galleries, bookstores, and antique shops. (15-minute taxi ride)\n",
            "\n",
            "Day 4: Exploring Kolkata's Religious Sites\n",
            "\n",
            "Morning:\n",
            "- Visit the Kali Temple at Kalighat, a famous Hindu temple dedicated to Goddess Kali. (20-minute taxi ride)\n",
            "\n",
            "Afternoon:\n",
            "- Head to the famous Howrah Bridge, a suspension bridge over the Hooghly River, and enjoy a lunch at the nearby New Market. (30-minute taxi ride)\n",
            "\n",
            "Evening:\n",
            "- Visit the Sri Aurobindo Ashram, a spiritual community and ashram founded by Sri Aurobindo and the Mother. (15-minute taxi ride)\n",
            "\n",
            "Day 5: Day trip to Santiniketan\n",
            "\n",
            "Morning:\n",
            "- Take a day trip to Santiniketan, the historic town and former abode of Rabindranath Tagore. (2 hours by train from Howrah Station)\n",
            "- Visit the Tagore Museum, Shantiniketan Visva-Bharati University, and Kala Bhavan.\n",
            "\n",
            "Afternoon:\n",
            "- Have lunch at Kasturi, a popular restaurant in Santiniketan.\n",
            "\n",
            "Evening:\n",
            "- Return to Kolkata and relax at your hotel.\n",
            "\n",
            "Day 6: Exploring Modern Kolkata\n",
            "\n",
            "Morning:\n",
            "- Visit the Science City, a popular science park and an educational complex. (30-minute taxi ride)\n",
            "\n",
            "Afternoon:\n",
            "- Head to New Town, Kolkata's newest and most modern area, and explore the Eco Park and the Millennium Park. (30-minute taxi ride)\n",
            "- Have lunch at Oh! Calcutta, a popular chain of restaurants serving authentic Bengali and Indian cuisine.\n",
            "\n",
            "Evening:\n",
            "- Visit the Mother's House, a museum dedicated to Mother Teresa and her life and work in Kolkata. (15-minute taxi ride)\n",
            "\n",
            "Day 7: Departure\n",
            "\n",
            "Morning:\n",
            "- Check-out from your hotel and head to the airport.\n",
            "- Depart from Netaji Subhas Chandra Bose International Airport.\n",
            "\n",
            "Safety Considerations:\n",
            "- Kolkata is generally safe for tourists, but exercise caution while traveling alone, especially during late hours.\n",
            "- Avoid carrying large amounts of cash and avoid wearing expensive jewelry or carrying valuable items in public places.\n",
            "- Be respectful of local customs and traditions, especially when visiting religious sites.\n",
            "- Drink bottled water to avoid any health issues.\n",
            "- Stay away from street food if you have a sensitive stomach.\n",
            "- Keep copies of important documents, such as passports and travel insurance papers, in a safe place.\n"
          ]
        }
      ],
      "source": [
        "# User interaction flow remains the same until generation\n",
        "location = input(\"\\nEnter destination (e.g., 'Rome, Italy'): \").strip()\n",
        "user_query = input(\"Describe your travel preferences: \").strip()\n",
        "\n",
        "try:\n",
        "    num_days = int(input(\"Number of days (3-10): \").strip())\n",
        "    num_days = max(min(num_days, 10), 1)\n",
        "except ValueError:\n",
        "    num_days = DEFAULT_DAYS\n",
        "    print(f\"Using default duration: {DEFAULT_DAYS} days\")\n",
        "\n",
        "print(\"Collecting travel data...\")\n",
        "try:\n",
        "\n",
        "    CLOUDFLARE_ACCOUNT_ID = \"ab32823f1a2c6422bfa2771f82f979bc\"\n",
        "\n",
        "    rag_data = collect_travel_data(location, num_days, mapbox_token, tomtom_api_key)\n",
        "    prompt = format_prompt(rag_data, user_query, num_days)\n",
        "\n",
        "    print(\"Generating itinerary via Cloudflare AI...\")\n",
        "    itinerary = generate_itinerary(prompt, CLOUDFLARE_ACCOUNT_ID)\n",
        "\n",
        "    print(\"\\n=== TRAVEL PLAN ===\\n\")\n",
        "    print(itinerary)\n",
        "\n",
        "except Exception as e:\n",
        "    print(f\"Error: {str(e)}\")"
      ]
    },
    {
      "cell_type": "code",
      "execution_count": null,
      "metadata": {
        "id": "9cPGZqcRCq5R"
      },
      "outputs": [],
      "source": []
    }
  ],
  "metadata": {
    "accelerator": "GPU",
    "colab": {
      "gpuType": "T4",
      "provenance": []
    },
    "kernelspec": {
      "display_name": "Python 3",
      "name": "python3"
    },
    "language_info": {
      "name": "python"
    }
  },
  "nbformat": 4,
  "nbformat_minor": 0
}
